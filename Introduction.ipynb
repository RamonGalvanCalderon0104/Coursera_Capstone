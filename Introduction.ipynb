{
 "cells": [
  {
   "cell_type": "markdown",
   "metadata": {
    "collapsed": true
   },
   "source": [
    "# Coursera Capstone Final Project (Week 1)\n",
    "\n",
    "# By Ramón Galván Calderón"
   ]
  },
  {
   "cell_type": "markdown",
   "metadata": {},
   "source": [
    "## Introduction"
   ]
  },
  {
   "cell_type": "markdown",
   "metadata": {},
   "source": [
    "The restaurant industry is one of the main economic sectors in Mexico.\n",
    "\n",
    "According to the National Institute of Statistics and Geography (INEGI), there are currently around 451,854 food and beverage preparation establishments in Mexico, and it is estimated that they have more than 1.5 million employed people.\n",
    "\n",
    "The following list shows some of the types of establishments that exist in the Mexican market:\n",
    "\n",
    "-Seafood Restaurants\n",
    "\n",
    "-Cafeterias\n",
    "\n",
    "-Fast Food Restaurants\n",
    "\n",
    "-Self-service restaurants "
   ]
  },
  {
   "cell_type": "markdown",
   "metadata": {},
   "source": [
    "## Problem "
   ]
  },
  {
   "cell_type": "markdown",
   "metadata": {},
   "source": [
    "This project will be of interest to those interested in opening a restaurant in Mexico City or analizing data related to food and beverage preparation establishments and their location in Mexico City.\n",
    "\n",
    "In this project, all the restaurants (available in Foursquare) in Mexico City will be plotted in a map, they will be clustered and classify according to the food type they specialize in. This will help us to determine:\n",
    "\n",
    "-The areas where there are more restaurants.\n",
    "\n",
    "-Presence of possible competitors in certain areas of the city.\n",
    "\n",
    "-The most suitable area to open a restaurant based on the presence of other restaurants."
   ]
  },
  {
   "cell_type": "code",
   "execution_count": null,
   "metadata": {},
   "outputs": [],
   "source": []
  }
 ],
 "metadata": {
  "kernelspec": {
   "display_name": "Python 3.6",
   "language": "python",
   "name": "python3"
  },
  "language_info": {
   "codemirror_mode": {
    "name": "ipython",
    "version": 3
   },
   "file_extension": ".py",
   "mimetype": "text/x-python",
   "name": "python",
   "nbconvert_exporter": "python",
   "pygments_lexer": "ipython3",
   "version": "3.6.9"
  }
 },
 "nbformat": 4,
 "nbformat_minor": 1
}
